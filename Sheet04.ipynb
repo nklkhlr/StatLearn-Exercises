{
 "cells": [
  {
   "cell_type": "markdown",
   "metadata": {},
   "source": [
    "# Sheet 4: Solution"
   ]
  },
  {
   "cell_type": "code",
   "execution_count": 1,
   "metadata": {},
   "outputs": [],
   "source": [
    "%matplotlib inline \n",
    "import matplotlib\n",
    "import matplotlib.pyplot as plt\n",
    "import numpy as np\n",
    "import pandas as pd"
   ]
  },
  {
   "cell_type": "markdown",
   "metadata": {},
   "source": [
    "## Exercise 2: Lasso regression"
   ]
  },
  {
   "cell_type": "code",
   "execution_count": 2,
   "metadata": {},
   "outputs": [
    {
     "data": {
      "text/html": [
       "<div>\n",
       "<style scoped>\n",
       "    .dataframe tbody tr th:only-of-type {\n",
       "        vertical-align: middle;\n",
       "    }\n",
       "\n",
       "    .dataframe tbody tr th {\n",
       "        vertical-align: top;\n",
       "    }\n",
       "\n",
       "    .dataframe thead th {\n",
       "        text-align: right;\n",
       "    }\n",
       "</style>\n",
       "<table border=\"1\" class=\"dataframe\">\n",
       "  <thead>\n",
       "    <tr style=\"text-align: right;\">\n",
       "      <th></th>\n",
       "      <th>lcavol</th>\n",
       "      <th>lweight</th>\n",
       "      <th>age</th>\n",
       "      <th>lbph</th>\n",
       "      <th>svi</th>\n",
       "      <th>lcp</th>\n",
       "      <th>gleason</th>\n",
       "      <th>pgg45</th>\n",
       "      <th>lpsa</th>\n",
       "      <th>train</th>\n",
       "    </tr>\n",
       "  </thead>\n",
       "  <tbody>\n",
       "    <tr>\n",
       "      <td>0</td>\n",
       "      <td>-0.579818</td>\n",
       "      <td>2.769459</td>\n",
       "      <td>50</td>\n",
       "      <td>-1.386294</td>\n",
       "      <td>0</td>\n",
       "      <td>-1.386294</td>\n",
       "      <td>6</td>\n",
       "      <td>0</td>\n",
       "      <td>-0.430783</td>\n",
       "      <td>True</td>\n",
       "    </tr>\n",
       "    <tr>\n",
       "      <td>1</td>\n",
       "      <td>-0.994252</td>\n",
       "      <td>3.319626</td>\n",
       "      <td>58</td>\n",
       "      <td>-1.386294</td>\n",
       "      <td>0</td>\n",
       "      <td>-1.386294</td>\n",
       "      <td>6</td>\n",
       "      <td>0</td>\n",
       "      <td>-0.162519</td>\n",
       "      <td>True</td>\n",
       "    </tr>\n",
       "    <tr>\n",
       "      <td>2</td>\n",
       "      <td>-0.510826</td>\n",
       "      <td>2.691243</td>\n",
       "      <td>74</td>\n",
       "      <td>-1.386294</td>\n",
       "      <td>0</td>\n",
       "      <td>-1.386294</td>\n",
       "      <td>7</td>\n",
       "      <td>20</td>\n",
       "      <td>-0.162519</td>\n",
       "      <td>True</td>\n",
       "    </tr>\n",
       "    <tr>\n",
       "      <td>3</td>\n",
       "      <td>-1.203973</td>\n",
       "      <td>3.282789</td>\n",
       "      <td>58</td>\n",
       "      <td>-1.386294</td>\n",
       "      <td>0</td>\n",
       "      <td>-1.386294</td>\n",
       "      <td>6</td>\n",
       "      <td>0</td>\n",
       "      <td>-0.162519</td>\n",
       "      <td>True</td>\n",
       "    </tr>\n",
       "    <tr>\n",
       "      <td>4</td>\n",
       "      <td>0.751416</td>\n",
       "      <td>3.432373</td>\n",
       "      <td>62</td>\n",
       "      <td>-1.386294</td>\n",
       "      <td>0</td>\n",
       "      <td>-1.386294</td>\n",
       "      <td>6</td>\n",
       "      <td>0</td>\n",
       "      <td>0.371564</td>\n",
       "      <td>True</td>\n",
       "    </tr>\n",
       "    <tr>\n",
       "      <td>5</td>\n",
       "      <td>-1.049822</td>\n",
       "      <td>3.228826</td>\n",
       "      <td>50</td>\n",
       "      <td>-1.386294</td>\n",
       "      <td>0</td>\n",
       "      <td>-1.386294</td>\n",
       "      <td>6</td>\n",
       "      <td>0</td>\n",
       "      <td>0.765468</td>\n",
       "      <td>True</td>\n",
       "    </tr>\n",
       "    <tr>\n",
       "      <td>6</td>\n",
       "      <td>0.737164</td>\n",
       "      <td>3.473518</td>\n",
       "      <td>64</td>\n",
       "      <td>0.615186</td>\n",
       "      <td>0</td>\n",
       "      <td>-1.386294</td>\n",
       "      <td>6</td>\n",
       "      <td>0</td>\n",
       "      <td>0.765468</td>\n",
       "      <td>False</td>\n",
       "    </tr>\n",
       "    <tr>\n",
       "      <td>7</td>\n",
       "      <td>0.693147</td>\n",
       "      <td>3.539509</td>\n",
       "      <td>58</td>\n",
       "      <td>1.536867</td>\n",
       "      <td>0</td>\n",
       "      <td>-1.386294</td>\n",
       "      <td>6</td>\n",
       "      <td>0</td>\n",
       "      <td>0.854415</td>\n",
       "      <td>True</td>\n",
       "    </tr>\n",
       "  </tbody>\n",
       "</table>\n",
       "</div>"
      ],
      "text/plain": [
       "     lcavol   lweight  age      lbph  svi       lcp  gleason  pgg45      lpsa  \\\n",
       "0 -0.579818  2.769459   50 -1.386294    0 -1.386294        6      0 -0.430783   \n",
       "1 -0.994252  3.319626   58 -1.386294    0 -1.386294        6      0 -0.162519   \n",
       "2 -0.510826  2.691243   74 -1.386294    0 -1.386294        7     20 -0.162519   \n",
       "3 -1.203973  3.282789   58 -1.386294    0 -1.386294        6      0 -0.162519   \n",
       "4  0.751416  3.432373   62 -1.386294    0 -1.386294        6      0  0.371564   \n",
       "5 -1.049822  3.228826   50 -1.386294    0 -1.386294        6      0  0.765468   \n",
       "6  0.737164  3.473518   64  0.615186    0 -1.386294        6      0  0.765468   \n",
       "7  0.693147  3.539509   58  1.536867    0 -1.386294        6      0  0.854415   \n",
       "\n",
       "   train  \n",
       "0   True  \n",
       "1   True  \n",
       "2   True  \n",
       "3   True  \n",
       "4   True  \n",
       "5   True  \n",
       "6  False  \n",
       "7   True  "
      ]
     },
     "execution_count": 2,
     "metadata": {},
     "output_type": "execute_result"
    }
   ],
   "source": [
    "pcancer = pd.read_csv(\"prostate.csv\",delimiter=',')\n",
    "\n",
    "pcancer.head(8)"
   ]
  },
  {
   "cell_type": "code",
   "execution_count": 3,
   "metadata": {},
   "outputs": [
    {
     "data": {
      "text/html": [
       "<div>\n",
       "<style scoped>\n",
       "    .dataframe tbody tr th:only-of-type {\n",
       "        vertical-align: middle;\n",
       "    }\n",
       "\n",
       "    .dataframe tbody tr th {\n",
       "        vertical-align: top;\n",
       "    }\n",
       "\n",
       "    .dataframe thead th {\n",
       "        text-align: right;\n",
       "    }\n",
       "</style>\n",
       "<table border=\"1\" class=\"dataframe\">\n",
       "  <thead>\n",
       "    <tr style=\"text-align: right;\">\n",
       "      <th></th>\n",
       "      <th>lcavol</th>\n",
       "      <th>lweight</th>\n",
       "      <th>age</th>\n",
       "      <th>lbph</th>\n",
       "      <th>svi</th>\n",
       "      <th>lcp</th>\n",
       "      <th>gleason</th>\n",
       "      <th>pgg45</th>\n",
       "    </tr>\n",
       "  </thead>\n",
       "  <tbody>\n",
       "    <tr>\n",
       "      <td>6</td>\n",
       "      <td>0.737164</td>\n",
       "      <td>3.473518</td>\n",
       "      <td>64</td>\n",
       "      <td>0.615186</td>\n",
       "      <td>0</td>\n",
       "      <td>-1.386294</td>\n",
       "      <td>6</td>\n",
       "      <td>0</td>\n",
       "    </tr>\n",
       "    <tr>\n",
       "      <td>8</td>\n",
       "      <td>-0.776529</td>\n",
       "      <td>3.539509</td>\n",
       "      <td>47</td>\n",
       "      <td>-1.386294</td>\n",
       "      <td>0</td>\n",
       "      <td>-1.386294</td>\n",
       "      <td>6</td>\n",
       "      <td>0</td>\n",
       "    </tr>\n",
       "    <tr>\n",
       "      <td>9</td>\n",
       "      <td>0.223144</td>\n",
       "      <td>3.244544</td>\n",
       "      <td>63</td>\n",
       "      <td>-1.386294</td>\n",
       "      <td>0</td>\n",
       "      <td>-1.386294</td>\n",
       "      <td>6</td>\n",
       "      <td>0</td>\n",
       "    </tr>\n",
       "    <tr>\n",
       "      <td>14</td>\n",
       "      <td>1.205971</td>\n",
       "      <td>3.442019</td>\n",
       "      <td>57</td>\n",
       "      <td>-1.386294</td>\n",
       "      <td>0</td>\n",
       "      <td>-0.430783</td>\n",
       "      <td>7</td>\n",
       "      <td>5</td>\n",
       "    </tr>\n",
       "    <tr>\n",
       "      <td>21</td>\n",
       "      <td>2.059239</td>\n",
       "      <td>3.501043</td>\n",
       "      <td>60</td>\n",
       "      <td>1.474763</td>\n",
       "      <td>0</td>\n",
       "      <td>1.348073</td>\n",
       "      <td>7</td>\n",
       "      <td>20</td>\n",
       "    </tr>\n",
       "    <tr>\n",
       "      <td>24</td>\n",
       "      <td>0.385262</td>\n",
       "      <td>3.667400</td>\n",
       "      <td>69</td>\n",
       "      <td>1.599388</td>\n",
       "      <td>0</td>\n",
       "      <td>-1.386294</td>\n",
       "      <td>6</td>\n",
       "      <td>0</td>\n",
       "    </tr>\n",
       "    <tr>\n",
       "      <td>25</td>\n",
       "      <td>1.446919</td>\n",
       "      <td>3.124565</td>\n",
       "      <td>68</td>\n",
       "      <td>0.300105</td>\n",
       "      <td>0</td>\n",
       "      <td>-1.386294</td>\n",
       "      <td>6</td>\n",
       "      <td>0</td>\n",
       "    </tr>\n",
       "    <tr>\n",
       "      <td>27</td>\n",
       "      <td>-0.400478</td>\n",
       "      <td>3.865979</td>\n",
       "      <td>67</td>\n",
       "      <td>1.816452</td>\n",
       "      <td>0</td>\n",
       "      <td>-1.386294</td>\n",
       "      <td>7</td>\n",
       "      <td>20</td>\n",
       "    </tr>\n",
       "  </tbody>\n",
       "</table>\n",
       "</div>"
      ],
      "text/plain": [
       "      lcavol   lweight  age      lbph  svi       lcp  gleason  pgg45\n",
       "6   0.737164  3.473518   64  0.615186    0 -1.386294        6      0\n",
       "8  -0.776529  3.539509   47 -1.386294    0 -1.386294        6      0\n",
       "9   0.223144  3.244544   63 -1.386294    0 -1.386294        6      0\n",
       "14  1.205971  3.442019   57 -1.386294    0 -0.430783        7      5\n",
       "21  2.059239  3.501043   60  1.474763    0  1.348073        7     20\n",
       "24  0.385262  3.667400   69  1.599388    0 -1.386294        6      0\n",
       "25  1.446919  3.124565   68  0.300105    0 -1.386294        6      0\n",
       "27 -0.400478  3.865979   67  1.816452    0 -1.386294        7     20"
      ]
     },
     "execution_count": 3,
     "metadata": {},
     "output_type": "execute_result"
    }
   ],
   "source": [
    "# There's a training sub-dataset that we will focus on. Later, we will try to predict\n",
    "# the values of the remaining observations.\n",
    "col_num = 8\n",
    "Xtrain = pcancer.loc[pcancer['train'] == True,pcancer.columns[0:col_num]]\n",
    "ytrain = pcancer.loc[pcancer['train'] == True,pcancer.columns[col_num]]\n",
    "Xtrain.head(8)\n",
    "names = list(Xtrain)\n",
    "Xtest = pcancer.loc[pcancer['train'] == False,pcancer.columns[0:col_num]]\n",
    "ytest = pcancer.loc[pcancer['train'] == False,pcancer.columns[col_num]]\n",
    "Xtest.head(8)"
   ]
  },
  {
   "cell_type": "code",
   "execution_count": 4,
   "metadata": {},
   "outputs": [
    {
     "name": "stdout",
     "output_type": "stream",
     "text": [
      "lcavol      1.313492\n",
      "lweight     3.626108\n",
      "age        64.746269\n",
      "lbph        0.071440\n",
      "svi         0.223881\n",
      "lcp        -0.214203\n",
      "gleason     6.731343\n",
      "pgg45      26.268657\n",
      "dtype: float64\n",
      "lcavol      1.233282\n",
      "lweight     0.473031\n",
      "age         7.446011\n",
      "lbph        1.452691\n",
      "svi         0.416843\n",
      "lcp         1.390243\n",
      "gleason     0.703554\n",
      "pgg45      29.082272\n",
      "dtype: float64\n"
     ]
    }
   ],
   "source": [
    "# scale data sets to have zero mean and unit variance, but do not adjust lpsa\n",
    "from sklearn import linear_model,preprocessing\n",
    "Xtrain_mean = np.mean(Xtrain)\n",
    "Xtrain_std = np.std(Xtrain)\n",
    "print(Xtrain_mean)\n",
    "print(Xtrain_std)\n",
    "# Scale training data to have zero mean and unit variance (standard derivation)\n",
    "Xtrain = (Xtrain-Xtrain_mean)/Xtrain_std\n",
    "\n",
    "Xtest.head(8)\n",
    "# Scale testing data using training mean and trainig standard derivation\n",
    "Xtest = (Xtest-Xtrain_mean)/Xtrain_std"
   ]
  },
  {
   "cell_type": "code",
   "execution_count": 5,
   "metadata": {},
   "outputs": [],
   "source": [
    "from sklearn.linear_model import LinearRegression\n",
    "import numpy as np\n",
    "linear_reg = LinearRegression(fit_intercept=True).fit(Xtrain, ytrain)"
   ]
  },
  {
   "cell_type": "markdown",
   "metadata": {},
   "source": [
    "Fit lasso "
   ]
  },
  {
   "cell_type": "code",
   "execution_count": 6,
   "metadata": {},
   "outputs": [
    {
     "data": {
      "image/png": "[encoded data removed]",
      "text/plain": [
       "<Figure size 432x288 with 1 Axes>"
      ]
     },
     "metadata": {
      "needs_background": "dark"
     },
     "output_type": "display_data"
    }
   ],
   "source": [
    "from sklearn.linear_model import Lasso\n",
    "n_alphas = 1000\n",
    "lam= np.linspace(0.0001, 150, n_alphas)\n",
    "\n",
    "betaHats = np.zeros((n_alphas,Xtrain.shape[1]+1))\n",
    "for i in range(n_alphas):\n",
    "    lasso_reg = Lasso(alpha=lam[i]/(2*Xtrain.shape[0])).fit(Xtrain, ytrain)\n",
    "    \n",
    "    betaHats[i,1:] = lasso_reg.coef_\n",
    "    betaHats[i,0] = lasso_reg.intercept_\n",
    "    \n",
    "plt.figure()\n",
    "plt.plot(lam, betaHats[:,1:-1])\n",
    "plt.xlabel('Lambda')\n",
    "plt.ylabel('beta')\n",
    "plt.legend(names[0:8])\n",
    "plt.show()"
   ]
  },
  {
   "cell_type": "markdown",
   "metadata": {},
   "source": [
    "Match the solution with coordinate descent"
   ]
  },
  {
   "cell_type": "code",
   "execution_count": 11,
   "metadata": {},
   "outputs": [
    {
     "name": "stderr",
     "output_type": "stream",
     "text": [
      "No handles with labels found to put in legend.\n"
     ]
    },
    {
     "data": {
      "image/png": "[encoded data removed]",
      "text/plain": [
       "<Figure size 432x288 with 1 Axes>"
      ]
     },
     "metadata": {
      "needs_background": "dark"
     },
     "output_type": "display_data"
    }
   ],
   "source": [
    "n_alphas = 100\n",
    "lam= np.linspace(0.0001, 150, n_alphas)\n",
    "X = np.concatenate((np.ones(Xtrain.shape[0]).reshape(-1,1),Xtrain),axis=1)\n",
    "model_lasso_coef2 = np.zeros((lam.shape[0],9))\n",
    "\n",
    "for i in range(n_alphas):\n",
    "    coefs = np.linalg.pinv(X.T.dot(X)+lam[i]).dot(X.T).dot(ytrain)\n",
    "    res = ytrain-X.dot(coefs)\n",
    "    for step in range(10):\n",
    "        for j in range(8):\n",
    "            res = ytrain-X[:,j]*coefs[j]\n",
    "            a = 2*np.sum(X[:,j]**2)\n",
    "            c = 2*np.sum(X[:,j]*res)\n",
    "            \n",
    "            coefs[j] = (np.abs(c)-lam[i])/a\n",
    "            coefs[j] = np.sign(c)*np.maximum(coefs[j],0)\n",
    "            res = res-X[:,j]*coefs[j]\n",
    "            \n",
    "    model_lasso_coef2[i,:] = coefs    \n",
    "            \n",
    "plt.figure()\n",
    "plt.plot(lam, model_lasso_coef2[:,1:-1])\n",
    "plt.legend()\n",
    "plt.show()"
   ]
  },
  {
   "cell_type": "code",
   "execution_count": 17,
   "metadata": {},
   "outputs": [
    {
     "data": {
      "image/png": "[encoded data removed]",
      "text/plain": [
       "<Figure size 432x288 with 1 Axes>"
      ]
     },
     "metadata": {
      "needs_background": "dark"
     },
     "output_type": "display_data"
    }
   ],
   "source": [
    "from sklearn.linear_model import ElasticNet\n",
    "\n",
    "net_coefs = np.zeros((n_alphas,9))\n",
    "for i in range(n_alphas):\n",
    "    net = ElasticNet(lam[i]/(2*Xtrain.shape[0]), l1_ratio=0.5, fit_intercept=True).fit(Xtrain,ytrain)\n",
    "    \n",
    "    net_coefs[i,1:] = net.coef_\n",
    "    net_coefs[:,0] = net.intercept_\n",
    "    \n",
    "plt.figure()\n",
    "plt.plot(lam, net_coefs[:,1:-1])\n",
    "plt.legend(names[:8],bbox_to_anchor=(1.4,0.7))\n",
    "plt.show()"
   ]
  },
  {
   "cell_type": "markdown",
   "metadata": {},
   "source": [
    "Find optimal coefficient using cross-validation"
   ]
  },
  {
   "cell_type": "code",
   "execution_count": 24,
   "metadata": {},
   "outputs": [
    {
     "name": "stdout",
     "output_type": "stream",
     "text": [
      "optimal ridge regression strength lambda is:  124.24244141414141\n",
      "optimal lasso regression strength lambda is:  0.00010000000000000002\n",
      "optimal elastic regression strength lambda is:  0.00010000000000000002\n"
     ]
    },
    {
     "name": "stderr",
     "output_type": "stream",
     "text": [
      "/Library/Frameworks/Python.framework/Versions/3.6/lib/python3.6/site-packages/sklearn/model_selection/_search.py:814: DeprecationWarning: The default of the `iid` parameter will change from True to False in version 0.22 and will be removed in 0.24. This will change numeric results when test-set sizes are unequal.\n",
      "  DeprecationWarning)\n"
     ]
    }
   ],
   "source": [
    "from sklearn.linear_model import RidgeCV,LassoCV,ElasticNetCV\n",
    "optim_ridge = RidgeCV(alphas=lam, cv=5).fit(Xtrain,ytrain)\n",
    "optim_lasso = LassoCV(alphas=lam/(2*Xtrain.shape[0]), cv=5).fit(Xtrain,ytrain)\n",
    "optim_elastic = ElasticNetCV(alphas=lam/(2*Xtrain.shape[0]), cv=5).fit(Xtrain,ytrain)\n",
    "\n",
    "print('optimal ridge regression strength lambda is: ',optim_ridge.alpha_)\n",
    "print('optimal lasso regression strength lambda is: ',optim_lasso.alpha_*(2*Xtrain.shape[0]))\n",
    "print('optimal elastic regression strength lambda is: ',optim_elastic.alpha_*(2*Xtrain.shape[0]))"
   ]
  },
  {
   "cell_type": "code",
   "execution_count": 21,
   "metadata": {},
   "outputs": [
    {
     "name": "stdout",
     "output_type": "stream",
     "text": [
      "$\beta$ coefficients of ridge regression [0.21513448 0.1484939  0.02141925 0.09065035 0.14280151 0.08341709\n",
      " 0.05374744 0.08909149]\n",
      "$\beta$ coefficients of lasso regression [ 0.71069524  0.29042003 -0.1413067   0.21030232  0.30711583 -0.28618748\n",
      " -0.02032945  0.27461805]\n",
      "$\beta$ coefficients of elastic regression [ 0.7107765   0.29043278 -0.14136953  0.21035438  0.30718858 -0.28639787\n",
      " -0.02050738  0.27487208]\n"
     ]
    }
   ],
   "source": [
    "print('$\\beta$ coefficients of ridge regression',optim_ridge.coef_)\n",
    "print('$\\beta$ coefficients of lasso regression',optim_lasso.coef_)\n",
    "print('$\\beta$ coefficients of elastic regression',optim_elastic.coef_)"
   ]
  }
 ],
 "metadata": {
  "kernelspec": {
   "display_name": "Python 3",
   "language": "python",
   "name": "python3"
  },
  "language_info": {
   "codemirror_mode": {
    "name": "ipython",
    "version": 3
   },
   "file_extension": ".py",
   "mimetype": "text/x-python",
   "name": "python",
   "nbconvert_exporter": "python",
   "pygments_lexer": "ipython3",
   "version": "3.8.11"
  }
 },
 "nbformat": 4,
 "nbformat_minor": 2
}
