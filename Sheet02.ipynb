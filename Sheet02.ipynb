{
 "cells": [
  {
   "cell_type": "markdown",
   "metadata": {},
   "source": [
    "# Sheet 2"
   ]
  },
  {
   "cell_type": "markdown",
   "metadata": {},
   "source": [
    "First, import a few commonly-used functions"
   ]
  },
  {
   "cell_type": "code",
   "execution_count": 9,
   "metadata": {},
   "outputs": [],
   "source": [
    "%matplotlib inline\n",
    "\n",
    "import numpy as np\n",
    "import matplotlib.pyplot as plt\n",
    "import pandas as pd"
   ]
  },
  {
   "cell_type": "markdown",
   "metadata": {},
   "source": [
    "# Exercise 1: Bias-variance tradeoff for k-nearest-neighbors (knn) classifier"
   ]
  },
  {
   "cell_type": "code",
   "execution_count": 10,
   "metadata": {},
   "outputs": [
    {
     "data": {
      "text/html": [
       "<div>\n",
       "<style scoped>\n",
       "    .dataframe tbody tr th:only-of-type {\n",
       "        vertical-align: middle;\n",
       "    }\n",
       "\n",
       "    .dataframe tbody tr th {\n",
       "        vertical-align: top;\n",
       "    }\n",
       "\n",
       "    .dataframe thead th {\n",
       "        text-align: right;\n",
       "    }\n",
       "</style>\n",
       "<table border=\"1\" class=\"dataframe\">\n",
       "  <thead>\n",
       "    <tr style=\"text-align: right;\">\n",
       "      <th></th>\n",
       "      <th>Sepal_length</th>\n",
       "      <th>Sepal_width</th>\n",
       "      <th>Petal_length</th>\n",
       "      <th>Petal_width</th>\n",
       "      <th>Species</th>\n",
       "    </tr>\n",
       "  </thead>\n",
       "  <tbody>\n",
       "    <tr>\n",
       "      <th>0</th>\n",
       "      <td>5.1</td>\n",
       "      <td>3.5</td>\n",
       "      <td>1.4</td>\n",
       "      <td>0.2</td>\n",
       "      <td>Iris-setosa</td>\n",
       "    </tr>\n",
       "    <tr>\n",
       "      <th>1</th>\n",
       "      <td>4.9</td>\n",
       "      <td>3.0</td>\n",
       "      <td>1.4</td>\n",
       "      <td>0.2</td>\n",
       "      <td>Iris-setosa</td>\n",
       "    </tr>\n",
       "    <tr>\n",
       "      <th>2</th>\n",
       "      <td>4.7</td>\n",
       "      <td>3.2</td>\n",
       "      <td>1.3</td>\n",
       "      <td>0.2</td>\n",
       "      <td>Iris-setosa</td>\n",
       "    </tr>\n",
       "    <tr>\n",
       "      <th>3</th>\n",
       "      <td>4.6</td>\n",
       "      <td>3.1</td>\n",
       "      <td>1.5</td>\n",
       "      <td>0.2</td>\n",
       "      <td>Iris-setosa</td>\n",
       "    </tr>\n",
       "    <tr>\n",
       "      <th>4</th>\n",
       "      <td>5.0</td>\n",
       "      <td>3.6</td>\n",
       "      <td>1.4</td>\n",
       "      <td>0.2</td>\n",
       "      <td>Iris-setosa</td>\n",
       "    </tr>\n",
       "    <tr>\n",
       "      <th>5</th>\n",
       "      <td>5.4</td>\n",
       "      <td>3.9</td>\n",
       "      <td>1.7</td>\n",
       "      <td>0.4</td>\n",
       "      <td>Iris-setosa</td>\n",
       "    </tr>\n",
       "    <tr>\n",
       "      <th>6</th>\n",
       "      <td>4.6</td>\n",
       "      <td>3.4</td>\n",
       "      <td>1.4</td>\n",
       "      <td>0.3</td>\n",
       "      <td>Iris-setosa</td>\n",
       "    </tr>\n",
       "    <tr>\n",
       "      <th>7</th>\n",
       "      <td>5.0</td>\n",
       "      <td>3.4</td>\n",
       "      <td>1.5</td>\n",
       "      <td>0.2</td>\n",
       "      <td>Iris-setosa</td>\n",
       "    </tr>\n",
       "  </tbody>\n",
       "</table>\n",
       "</div>"
      ],
      "text/plain": [
       "   Sepal_length  Sepal_width  Petal_length  Petal_width      Species\n",
       "0           5.1          3.5           1.4          0.2  Iris-setosa\n",
       "1           4.9          3.0           1.4          0.2  Iris-setosa\n",
       "2           4.7          3.2           1.3          0.2  Iris-setosa\n",
       "3           4.6          3.1           1.5          0.2  Iris-setosa\n",
       "4           5.0          3.6           1.4          0.2  Iris-setosa\n",
       "5           5.4          3.9           1.7          0.4  Iris-setosa\n",
       "6           4.6          3.4           1.4          0.3  Iris-setosa\n",
       "7           5.0          3.4           1.5          0.2  Iris-setosa"
      ]
     },
     "execution_count": 10,
     "metadata": {},
     "output_type": "execute_result"
    }
   ],
   "source": [
    "iris = pd.read_csv(\"http://archive.ics.uci.edu/ml/machine-learning-databases/iris/iris.data\",header=None)\n",
    "iris.columns = [\"Sepal_length\", \"Sepal_width\", \"Petal_length\", \"Petal_width\", \"Species\"]\n",
    "iris.head(8)"
   ]
  },
  {
   "cell_type": "markdown",
   "metadata": {},
   "source": [
    "Divide the data set into train and test as done on exercise sheet 1."
   ]
  },
  {
   "cell_type": "code",
   "execution_count": 21,
   "metadata": {},
   "outputs": [],
   "source": [
    "from sklearn.model_selection import train_test_split\n",
    "from sklearn.preprocessing import normalize\n",
    "\n",
    "iris.columns = [\"Sepal_length\", \"Sepal_width\", \"Petal_length\", \"Petal_width\", \"Species\"]\n",
    "X=iris[['Sepal_length', 'Sepal_width', 'Petal_length', 'Petal_width']]  # Features\n",
    "y=iris['Species']  # Labels\n",
    "\n",
    "# Normalise features\n",
    "X_norm = normalize(X)\n",
    "# Split dataset into training set and test set\n",
    "X_train, X_test, y_train, y_test = train_test_split(X,y,test_size=0.5) # 50% training and 50% test"
   ]
  },
  {
   "cell_type": "markdown",
   "metadata": {},
   "source": [
    "After splitting, you will train the model on the training set."
   ]
  },
  {
   "cell_type": "code",
   "execution_count": 13,
   "metadata": {},
   "outputs": [],
   "source": [
    "#Import knn Model\n",
    "from sklearn.neighbors import KNeighborsClassifier\n",
    "from sklearn.metrics import accuracy_score\n",
    "\n",
    "#Create a knn Classifier\n",
    "acc_train = np.zeros(15)\n",
    "acc_test = np.zeros(15)\n",
    "for i,knn_neighbors in enumerate(np.arange(1,30,2)):\n",
    "    knnmodel = KNeighborsClassifier(n_neighbors=knn_neighbors)\n",
    "    knnmodel.fit(X_train, y_train)\n",
    "    acc_train[i] = accuracy_score(y_train,knnmodel.predict(X_train))\n",
    "    acc_test[i]= accuracy_score(y_test,knnmodel.predict(X_test))"
   ]
  },
  {
   "cell_type": "code",
   "execution_count": 14,
   "metadata": {},
   "outputs": [
    {
     "data": {
      "text/plain": [
       "<matplotlib.legend.Legend at 0x7fee2b9ff0d0>"
      ]
     },
     "execution_count": 14,
     "metadata": {},
     "output_type": "execute_result"
    },
    {
     "data": {
      "image/png": "[encoded data removed]",
      "text/plain": [
       "<Figure size 432x288 with 1 Axes>"
      ]
     },
     "metadata": {
      "needs_background": "light"
     },
     "output_type": "display_data"
    }
   ],
   "source": [
    "plt.figure()\n",
    "plt.plot(np.arange(1,30,2), acc_train, label='training accuracy')\n",
    "plt.plot(np.arange(1,30,2), acc_test, label='test accuracy')\n",
    "\n",
    "plt.xlabel('k')\n",
    "plt.ylabel('accuracy')\n",
    "plt.legend()"
   ]
  },
  {
   "cell_type": "markdown",
   "metadata": {},
   "source": [
    "# Exercise 2: Expected prediction error"
   ]
  },
  {
   "cell_type": "markdown",
   "metadata": {},
   "source": [
    "We can compute, for a grid of threshold values, the average\n",
    "prediction error for each of these threshold values, as:\n",
    "\\begin{eqnarray*}\n",
    "EPE(t)=\\frac{1}{2}\\left(\\Phi_3(t)+1-\\Phi(t)\\right)\n",
    "\\end{eqnarray*}"
   ]
  },
  {
   "cell_type": "markdown",
   "metadata": {},
   "source": [
    "We can plot the theoretical EPE with:"
   ]
  },
  {
   "cell_type": "code",
   "execution_count": 18,
   "metadata": {},
   "outputs": [
    {
     "data": {
      "text/plain": [
       "[<matplotlib.lines.Line2D at 0x7fee2bc24b50>]"
      ]
     },
     "execution_count": 18,
     "metadata": {},
     "output_type": "execute_result"
    },
    {
     "data": {
      "image/png": "[encoded data removed]",
      "text/plain": [
       "<Figure size 432x288 with 1 Axes>"
      ]
     },
     "metadata": {
      "needs_background": "light"
     },
     "output_type": "display_data"
    }
   ],
   "source": [
    "from scipy.stats import norm\n",
    "def theoMisclas(t):\n",
    "    return (norm.cdf(t,loc=3)+1-norm.cdf(t))/2\n",
    "\n",
    "thres = np.arange(-4, 8, 0.01)\n",
    "theoEPE = theoMisclas(thres)\n",
    "plt.figure()\n",
    "plt.plot(thres,theoEPE,label='Theoretical')"
   ]
  },
  {
   "cell_type": "markdown",
   "metadata": {},
   "source": [
    "We can compute the optimal $\\hat{t}$, as:\n",
    "\\begin{eqnarray*}\n",
    "\\hat{t} &=& argmin\\left(EPE(t)\\right)\\\\\n",
    "&=& argmin\\left(\\frac{1}{2}\\left(\\Phi_3(t)+1-\\Phi(t)\\right)\\right)\\\\\n",
    "&=&\\textrm{argmin}_t\\left(\\textrm{erf}\\left(\\frac{t-3}{\\sqrt{2}}\\right)-\\textrm{erf}\\left(\\frac{t}{\\sqrt{2}}\\right)\\right)\\\\\n",
    "\\end{eqnarray*}\n",
    "Derivation and setting to zero yields:\n",
    "\\begin{eqnarray*}\n",
    "0 &=& \\frac{2}{4\\pi}\\left(e^{-(t-3)^2}-e^{-t^2}\\right)\\\\\n",
    "e^{-(t-3)^2} &=& e^{-t^2}\\\\\n",
    "(t-3)^2 &=& t^2\\\\\n",
    "t &=& 1.5\n",
    "\\end{eqnarray*}"
   ]
  },
  {
   "cell_type": "markdown",
   "metadata": {},
   "source": [
    "The simulation can be done as follows:"
   ]
  },
  {
   "cell_type": "code",
   "execution_count": 41,
   "metadata": {},
   "outputs": [],
   "source": [
    "N = 1000\n",
    "Y = np.zeros(N)\n",
    "Y[N//2:] += 1\n",
    "X0 = np.random.normal(0,1,N//2)\n",
    "mu = 3\n",
    "X1 = np.random.normal(mu,1,N//2)\n",
    "X = np.concatenate((X0,X1),axis=None)"
   ]
  },
  {
   "cell_type": "markdown",
   "metadata": {
    "collapsed": true
   },
   "source": [
    "Plot the density of the empirical\n",
    "marginal distribution of $X$ and the empirical conditional distributions of $X$\n",
    "divided according to the two groups,i.e. $X[Y==1]$ and $X[Y==0]$."
   ]
  },
  {
   "cell_type": "code",
   "execution_count": 47,
   "metadata": {},
   "outputs": [
    {
     "data": {
      "text/plain": [
       "<matplotlib.legend.Legend at 0x7fee2b497850>"
      ]
     },
     "execution_count": 47,
     "metadata": {},
     "output_type": "execute_result"
    },
    {
     "data": {
      "image/png": "[encoded data removed]",
      "text/plain": [
       "<Figure size 432x288 with 1 Axes>"
      ]
     },
     "metadata": {
      "needs_background": "light"
     },
     "output_type": "display_data"
    }
   ],
   "source": [
    "bins = 13\n",
    "plt.figure()\n",
    "plt.hist(X[Y==0], bins=bins, label='Group 0',range=(np.min(X),np.max(X)), alpha=.6, density=True)\n",
    "plt.hist(X[Y==1], bins=bins, label='Group 1',range=(np.min(X),np.max(X)), alpha=.6, density=True)\n",
    "\n",
    "plt.hist(X, bins=bins, range=(np.min(X),np.max(X)), alpha=.6, density=True)\n",
    "plt.xlabel('X')\n",
    "plt.ylabel('Density')\n",
    "plt.legend(loc=9, bbox_to_anchor=(+1.2, 0.6))"
   ]
  },
  {
   "cell_type": "markdown",
   "metadata": {},
   "source": [
    "We compute the empirical error function as:"
   ]
  },
  {
   "cell_type": "code",
   "execution_count": 48,
   "metadata": {},
   "outputs": [
    {
     "data": {
      "text/plain": [
       "<matplotlib.legend.Legend at 0x7fee2b396400>"
      ]
     },
     "execution_count": 48,
     "metadata": {},
     "output_type": "execute_result"
    },
    {
     "data": {
      "image/png": "[encoded data removed]",
      "text/plain": [
       "<Figure size 432x288 with 1 Axes>"
      ]
     },
     "metadata": {
      "needs_background": "light"
     },
     "output_type": "display_data"
    }
   ],
   "source": [
    "from scipy.stats import norm\n",
    "def aveMisclas(t):\n",
    "    return np.mean((X >= t) != Y)\n",
    "\n",
    "\n",
    "thres = np.arange(-4, 8, 0.01)\n",
    "aveMisclasFunc = np.vectorize(aveMisclas)\n",
    "empEPE = aveMisclasFunc(thres)\n",
    "\n",
    "plt.figure()\n",
    "plt.plot(thres, empEPE,color='red',label='Experimental')\n",
    "plt.plot(thres,theoEPE,color='blue',label='Theoretical')\n",
    "plt.xlabel('Thresholds')\n",
    "plt.ylabel('Misclassification rate')\n",
    "plt.legend(loc=9, bbox_to_anchor=(+1.2, 0.6))"
   ]
  },
  {
   "cell_type": "markdown",
   "metadata": {},
   "source": [
    "## Exercise 3 (optional): Analysis of Data on Hepatitis C"
   ]
  },
  {
   "cell_type": "code",
   "execution_count": null,
   "metadata": {},
   "outputs": [],
   "source": [
    "import pandas as pd\n",
    "HepCevol = pd.read_csv(\"HepCevol.txt\",delimiter=' ')\n",
    "HepCevol.head(5)"
   ]
  },
  {
   "cell_type": "markdown",
   "metadata": {},
   "source": [
    "First we write a function that, given $\\alpha$ and time value, returns the matrix of\n",
    "transition probabilities. The default is time = 1 to make the function work even if we don't\n",
    "specify time."
   ]
  },
  {
   "cell_type": "code",
   "execution_count": null,
   "metadata": {},
   "outputs": [],
   "source": [
    "def tpJC(alpha,time=1):\n",
    "    tp = np.full((4,4), 0.25-0.25*np.exp(-4*alpha*time))\n",
    "    tp[np.diag_indices_from(tp)] = 0.25+0.75*np.exp(-4*alpha*time)\n",
    "    return tp"
   ]
  },
  {
   "cell_type": "code",
   "execution_count": null,
   "metadata": {},
   "outputs": [],
   "source": [
    "M = tpJC(0.0005,1)\n",
    "print(M)"
   ]
  },
  {
   "cell_type": "markdown",
   "metadata": {},
   "source": [
    "The log likelihood function is\n",
    "\\begin{eqnarray*}\n",
    "log \\mathcal L (t,p,a) &=& log {\\sum_{x,y}}p(x)^{n_{xy}}*P_\\alpha^t(x,y)^{n_{xy}}\\\\\n",
    " &=& log {\\sum_{x,y}}p(x)^{n_{xy}}+ n_{xy}log{\\sum_{x,y}}P_\\alpha^t(x,y).\n",
    "\\end{eqnarray*}\n",
    "with $p(x)$ constant (0.25)<br/>\n",
    "Written it in Python, we have:\n"
   ]
  },
  {
   "cell_type": "code",
   "execution_count": null,
   "metadata": {},
   "outputs": [],
   "source": [
    "def mll(alpha,mutation_counts,time=1,tp = tpJC):\n",
    "    return np.sum(np.log(tp(alpha,time))*mutation_counts).flatten()"
   ]
  },
  {
   "cell_type": "markdown",
   "metadata": {},
   "source": [
    "To estimate $\\alpha$ using MLE we need to minimize the above log likelood by taking its derivative on $\\alpha$.\n",
    "$$ \\sum_{x\\neq y}\\frac{n_{x,y}}{P_\\alpha^t(x,y)}(-\\frac{1}{4}e^{-4\\alpha t}(-4t))+\\sum_{x}\\frac{n_{x,x}}{P_\\alpha^t(x,x)}(\\frac{3}{4}e^{-4\\alpha t}(-4t))=0$$\n",
    "\n",
    "$$ \\hat \\alpha = \\frac{1}{4t} \\log \\frac{3(n_1+n_2)}{3 n_1 - n_2} = \\frac{1}{4t} \\log \\frac{3n}{3 n_1 - n_2}$$\n",
    "with $n_1 = \\sum_x n_{x,x}$ and $n_2 = \\sum_{x \\neq y} n_{x,y}$ and if and only if $3n_1>n_2.$\n",
    "\n",
    "We implement the computation of the MLE for the given probabilistic model based on a tabulation of the\n",
    "transitions."
   ]
  },
  {
   "cell_type": "code",
   "execution_count": null,
   "metadata": {},
   "outputs": [],
   "source": [
    "def alphahat(mutation_counts,t):\n",
    "    n_xx = np.diagonal(mutation_counts).sum()\n",
    "    n_xy = mutation_counts.sum()-n_xx\n",
    "    if 3*n_xx>n_xy:\n",
    "        alpha = 1/(4*t)*np.log(3*(n_xx+n_xy)/(3*n_xx-n_xy))\n",
    "    else:\n",
    "        alpha = -1*np.inf\n",
    "    return alpha"
   ]
  },
  {
   "cell_type": "markdown",
   "metadata": {},
   "source": [
    "Then we tabulate our data for the three segments and compute the MLEs."
   ]
  },
  {
   "cell_type": "markdown",
   "metadata": {},
   "source": [
    "Segment A, the diagonal terms are $[470, 761, 746, 555]$"
   ]
  },
  {
   "cell_type": "code",
   "execution_count": null,
   "metadata": {},
   "outputs": [],
   "source": [
    "xSegA = np.zeros((4,4))\n",
    "nucleotide = ['A','C','G','T']\n",
    "for i in np.arange(4):\n",
    "    for j in np.arange(4):\n",
    "        if j!=i:\n",
    "            xSegA[i,j]= sum((HepCevol['segment']=='A')&(HepCevol['nucleotide.77']==nucleotide[i])&(HepCevol['nucleotide.90']==nucleotide[j]))\n",
    "np.fill_diagonal(xSegA, [470, 761, 746, 555])\n",
    "print(xSegA)\n",
    "alphahat_A = alphahat(xSegA,13)\n",
    "print(alphahat_A)"
   ]
  },
  {
   "cell_type": "markdown",
   "metadata": {},
   "source": [
    "SegmentB, the diagonal terms are $[252, 389, 347, 271]$"
   ]
  },
  {
   "cell_type": "code",
   "execution_count": null,
   "metadata": {},
   "outputs": [],
   "source": [
    "xSegB = np.zeros((4,4))\n",
    "nucleotide = ['A','C','G','T']\n",
    "for i in np.arange(4):\n",
    "    for j in np.arange(4):\n",
    "        if j!=i:\n",
    "            xSegB[i,j]= sum((HepCevol['segment']=='B')&(HepCevol['nucleotide.77']==nucleotide[i])&(HepCevol['nucleotide.90']==nucleotide[j]))\n",
    "np.fill_diagonal(xSegB, [252, 389, 347, 271])\n",
    "print('xSegB:',xSegB)\n",
    "alphahat_B = alphahat(xSegB,13)\n",
    "print('alphahat_B:',alphahat_B)\n"
   ]
  },
  {
   "cell_type": "markdown",
   "metadata": {},
   "source": [
    "SegmentC, the diagnoal terms are $[230, 299, 282, 198]$"
   ]
  },
  {
   "cell_type": "code",
   "execution_count": null,
   "metadata": {},
   "outputs": [],
   "source": [
    "xSegC = np.zeros((4,4))\n",
    "nucleotide = ['A','C','G','T']\n",
    "for i in np.arange(4):\n",
    "    for j in np.arange(4):\n",
    "        if j!=i:\n",
    "            xSegC[i,j]= sum((HepCevol['segment']=='C')&(HepCevol['nucleotide.77']==nucleotide[i])&(HepCevol['nucleotide.90']==nucleotide[j]))\n",
    "np.fill_diagonal(xSegC, [230, 299, 282, 198])\n",
    "print('xSegC:',xSegC)\n",
    "alphahat_C = alphahat(xSegC,13)\n",
    "print('alphahat_C:',alphahat_C)"
   ]
  },
  {
   "cell_type": "markdown",
   "metadata": {},
   "source": [
    "Make a Plot"
   ]
  },
  {
   "cell_type": "code",
   "execution_count": null,
   "metadata": {},
   "outputs": [],
   "source": [
    "alphaCandi = np.arange(0.0001, 0.003, 0.0001)\n",
    "mllExpA = np.zeros(alphaCandi.shape)\n",
    "mllExpB = np.zeros(alphaCandi.shape)\n",
    "mllExpC = np.zeros(alphaCandi.shape)\n",
    "for i in range(alphaCandi.shape[0]):\n",
    "    mllExpA[i]=mll(alphaCandi[i],xSegA,time=13)\n",
    "    mllExpB[i]=mll(alphaCandi[i],xSegB,time=13)\n",
    "    mllExpC[i]=mll(alphaCandi[i],xSegC,time=13)\n",
    "plt.figure()\n",
    "plt.plot(alphaCandi,mllExpA,color='red',label='segmentA')\n",
    "plt.scatter(alphahat_A,mll(alphahat_A,xSegA,time=13),color='red')\n",
    "plt.plot(alphaCandi,mllExpB,color='blue',label='segmentB')\n",
    "plt.scatter(alphahat_B,mll(alphahat_B,xSegB,time=13),color='blue')\n",
    "plt.plot(alphaCandi,mllExpC,color='green',label='segmentC')\n",
    "plt.scatter(alphahat_C,mll(alphahat_C,xSegC,time=13),color='green')"
   ]
  },
  {
   "cell_type": "code",
   "execution_count": null,
   "metadata": {},
   "outputs": [],
   "source": []
  }
 ],
 "metadata": {
  "kernelspec": {
   "display_name": "Python 3",
   "language": "python",
   "name": "python3"
  },
  "language_info": {
   "codemirror_mode": {
    "name": "ipython",
    "version": 3
   },
   "file_extension": ".py",
   "mimetype": "text/x-python",
   "name": "python",
   "nbconvert_exporter": "python",
   "pygments_lexer": "ipython3",
   "version": "3.8.11"
  }
 },
 "nbformat": 4,
 "nbformat_minor": 1
}
